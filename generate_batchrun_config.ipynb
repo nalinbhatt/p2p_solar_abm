{
 "cells": [
  {
   "cell_type": "markdown",
   "metadata": {},
   "source": [
    "# Batch Run Config Generator\n",
    "\n",
    "Takes in list of parameters that we want to vary for batch_runs then generates configuration files using them."
   ]
  },
  {
   "cell_type": "markdown",
   "metadata": {},
   "source": [
    "## Imports "
   ]
  },
  {
   "cell_type": "code",
   "execution_count": 3,
   "metadata": {},
   "outputs": [],
   "source": [
    "import numpy as np\n",
    "import json"
   ]
  },
  {
   "cell_type": "markdown",
   "metadata": {},
   "source": [
    "## Defining a parameter dictionary the we want to vary "
   ]
  },
  {
   "cell_type": "code",
   "execution_count": 7,
   "metadata": {},
   "outputs": [],
   "source": [
    "\n",
    "# Define the parameter dictionary\n",
    "parameter_dictionary = {\n",
    "    'prosumer_count': list(range(1,13)),\n",
    "    'perfect_forecasting': [True, False],\n",
    "    'exchange_type': ['bilateral', 'amm'],\n",
    "    'amm_liquidity_k': [50, 100, 200, 500],  # Only relevant for 'amm'\n",
    "    'n_runs': [10]\n",
    "}\n",
    "\n"
   ]
  },
  {
   "cell_type": "markdown",
   "metadata": {},
   "source": [
    "## Recursive function to generate combinations of parameter configs "
   ]
  },
  {
   "cell_type": "code",
   "execution_count": 8,
   "metadata": {},
   "outputs": [],
   "source": [
    "\n",
    "def generate_combinations(parameter_dict):\n",
    "    keys = list(parameter_dict.keys())\n",
    "    combinations = []\n",
    "\n",
    "    def recursive_combinations(current_dict, index):\n",
    "        if index == len(keys):\n",
    "            combinations.append(current_dict.copy())\n",
    "            return\n",
    "\n",
    "        key = keys[index]\n",
    "        values = parameter_dict[key]\n",
    "\n",
    "        if key == 'amm_liquidity_k':\n",
    "            # Skip amm_liquidity_k if exchange_type is 'bilateral'\n",
    "            if current_dict.get('exchange_type') == 'bilateral':\n",
    "                current_dict[key] = None\n",
    "                recursive_combinations(current_dict, index + 1)\n",
    "            else:\n",
    "                for value in values:\n",
    "                    current_dict[key] = value\n",
    "                    recursive_combinations(current_dict, index + 1)\n",
    "        else:\n",
    "            for value in values:\n",
    "                current_dict[key] = value\n",
    "                recursive_combinations(current_dict, index + 1)\n",
    "\n",
    "    # Start the recursive combination generation\n",
    "    recursive_combinations({}, 0)\n",
    "    return combinations\n",
    "\n"
   ]
  },
  {
   "cell_type": "markdown",
   "metadata": {},
   "source": [
    "## Generating Parameter Configs \n",
    "\n",
    "Generate parameter configs and write to ```configurations/batch_run.py``` file. "
   ]
  },
  {
   "cell_type": "code",
   "execution_count": null,
   "metadata": {},
   "outputs": [],
   "source": [
    "# Generate all combinations\n",
    "combinations = generate_combinations(parameter_dictionary)\n",
    "\n",
    "# Write the list of dictionaries to a JSON file\n",
    "with open('configurations/batch_run.json', 'w') as file:\n",
    "    json.dump(combinations, file, indent=4)\n",
    "\n"
   ]
  },
  {
   "cell_type": "markdown",
   "metadata": {},
   "source": [
    "## Printing generated configs \n",
    "If you want you can run the code below to print the generated configurations"
   ]
  },
  {
   "cell_type": "code",
   "execution_count": 9,
   "metadata": {},
   "outputs": [
    {
     "name": "stdout",
     "output_type": "stream",
     "text": [
      "{'prosumer_count': 1, 'perfect_forecasting': True, 'exchange_type': 'bilateral', 'amm_liquidity_k': None, 'n_runs': 10}\n",
      "{'prosumer_count': 1, 'perfect_forecasting': True, 'exchange_type': 'amm', 'amm_liquidity_k': 50, 'n_runs': 10}\n",
      "{'prosumer_count': 1, 'perfect_forecasting': True, 'exchange_type': 'amm', 'amm_liquidity_k': 100, 'n_runs': 10}\n",
      "{'prosumer_count': 1, 'perfect_forecasting': True, 'exchange_type': 'amm', 'amm_liquidity_k': 200, 'n_runs': 10}\n",
      "{'prosumer_count': 1, 'perfect_forecasting': True, 'exchange_type': 'amm', 'amm_liquidity_k': 500, 'n_runs': 10}\n",
      "{'prosumer_count': 1, 'perfect_forecasting': False, 'exchange_type': 'bilateral', 'amm_liquidity_k': None, 'n_runs': 10}\n",
      "{'prosumer_count': 1, 'perfect_forecasting': False, 'exchange_type': 'amm', 'amm_liquidity_k': 50, 'n_runs': 10}\n",
      "{'prosumer_count': 1, 'perfect_forecasting': False, 'exchange_type': 'amm', 'amm_liquidity_k': 100, 'n_runs': 10}\n",
      "{'prosumer_count': 1, 'perfect_forecasting': False, 'exchange_type': 'amm', 'amm_liquidity_k': 200, 'n_runs': 10}\n",
      "{'prosumer_count': 1, 'perfect_forecasting': False, 'exchange_type': 'amm', 'amm_liquidity_k': 500, 'n_runs': 10}\n",
      "{'prosumer_count': 2, 'perfect_forecasting': True, 'exchange_type': 'bilateral', 'amm_liquidity_k': None, 'n_runs': 10}\n",
      "{'prosumer_count': 2, 'perfect_forecasting': True, 'exchange_type': 'amm', 'amm_liquidity_k': 50, 'n_runs': 10}\n",
      "{'prosumer_count': 2, 'perfect_forecasting': True, 'exchange_type': 'amm', 'amm_liquidity_k': 100, 'n_runs': 10}\n",
      "{'prosumer_count': 2, 'perfect_forecasting': True, 'exchange_type': 'amm', 'amm_liquidity_k': 200, 'n_runs': 10}\n",
      "{'prosumer_count': 2, 'perfect_forecasting': True, 'exchange_type': 'amm', 'amm_liquidity_k': 500, 'n_runs': 10}\n",
      "{'prosumer_count': 2, 'perfect_forecasting': False, 'exchange_type': 'bilateral', 'amm_liquidity_k': None, 'n_runs': 10}\n",
      "{'prosumer_count': 2, 'perfect_forecasting': False, 'exchange_type': 'amm', 'amm_liquidity_k': 50, 'n_runs': 10}\n",
      "{'prosumer_count': 2, 'perfect_forecasting': False, 'exchange_type': 'amm', 'amm_liquidity_k': 100, 'n_runs': 10}\n",
      "{'prosumer_count': 2, 'perfect_forecasting': False, 'exchange_type': 'amm', 'amm_liquidity_k': 200, 'n_runs': 10}\n",
      "{'prosumer_count': 2, 'perfect_forecasting': False, 'exchange_type': 'amm', 'amm_liquidity_k': 500, 'n_runs': 10}\n",
      "{'prosumer_count': 3, 'perfect_forecasting': True, 'exchange_type': 'bilateral', 'amm_liquidity_k': None, 'n_runs': 10}\n",
      "{'prosumer_count': 3, 'perfect_forecasting': True, 'exchange_type': 'amm', 'amm_liquidity_k': 50, 'n_runs': 10}\n",
      "{'prosumer_count': 3, 'perfect_forecasting': True, 'exchange_type': 'amm', 'amm_liquidity_k': 100, 'n_runs': 10}\n",
      "{'prosumer_count': 3, 'perfect_forecasting': True, 'exchange_type': 'amm', 'amm_liquidity_k': 200, 'n_runs': 10}\n",
      "{'prosumer_count': 3, 'perfect_forecasting': True, 'exchange_type': 'amm', 'amm_liquidity_k': 500, 'n_runs': 10}\n",
      "{'prosumer_count': 3, 'perfect_forecasting': False, 'exchange_type': 'bilateral', 'amm_liquidity_k': None, 'n_runs': 10}\n",
      "{'prosumer_count': 3, 'perfect_forecasting': False, 'exchange_type': 'amm', 'amm_liquidity_k': 50, 'n_runs': 10}\n",
      "{'prosumer_count': 3, 'perfect_forecasting': False, 'exchange_type': 'amm', 'amm_liquidity_k': 100, 'n_runs': 10}\n",
      "{'prosumer_count': 3, 'perfect_forecasting': False, 'exchange_type': 'amm', 'amm_liquidity_k': 200, 'n_runs': 10}\n",
      "{'prosumer_count': 3, 'perfect_forecasting': False, 'exchange_type': 'amm', 'amm_liquidity_k': 500, 'n_runs': 10}\n",
      "{'prosumer_count': 4, 'perfect_forecasting': True, 'exchange_type': 'bilateral', 'amm_liquidity_k': None, 'n_runs': 10}\n",
      "{'prosumer_count': 4, 'perfect_forecasting': True, 'exchange_type': 'amm', 'amm_liquidity_k': 50, 'n_runs': 10}\n",
      "{'prosumer_count': 4, 'perfect_forecasting': True, 'exchange_type': 'amm', 'amm_liquidity_k': 100, 'n_runs': 10}\n",
      "{'prosumer_count': 4, 'perfect_forecasting': True, 'exchange_type': 'amm', 'amm_liquidity_k': 200, 'n_runs': 10}\n",
      "{'prosumer_count': 4, 'perfect_forecasting': True, 'exchange_type': 'amm', 'amm_liquidity_k': 500, 'n_runs': 10}\n",
      "{'prosumer_count': 4, 'perfect_forecasting': False, 'exchange_type': 'bilateral', 'amm_liquidity_k': None, 'n_runs': 10}\n",
      "{'prosumer_count': 4, 'perfect_forecasting': False, 'exchange_type': 'amm', 'amm_liquidity_k': 50, 'n_runs': 10}\n",
      "{'prosumer_count': 4, 'perfect_forecasting': False, 'exchange_type': 'amm', 'amm_liquidity_k': 100, 'n_runs': 10}\n",
      "{'prosumer_count': 4, 'perfect_forecasting': False, 'exchange_type': 'amm', 'amm_liquidity_k': 200, 'n_runs': 10}\n",
      "{'prosumer_count': 4, 'perfect_forecasting': False, 'exchange_type': 'amm', 'amm_liquidity_k': 500, 'n_runs': 10}\n",
      "{'prosumer_count': 5, 'perfect_forecasting': True, 'exchange_type': 'bilateral', 'amm_liquidity_k': None, 'n_runs': 10}\n",
      "{'prosumer_count': 5, 'perfect_forecasting': True, 'exchange_type': 'amm', 'amm_liquidity_k': 50, 'n_runs': 10}\n",
      "{'prosumer_count': 5, 'perfect_forecasting': True, 'exchange_type': 'amm', 'amm_liquidity_k': 100, 'n_runs': 10}\n",
      "{'prosumer_count': 5, 'perfect_forecasting': True, 'exchange_type': 'amm', 'amm_liquidity_k': 200, 'n_runs': 10}\n",
      "{'prosumer_count': 5, 'perfect_forecasting': True, 'exchange_type': 'amm', 'amm_liquidity_k': 500, 'n_runs': 10}\n",
      "{'prosumer_count': 5, 'perfect_forecasting': False, 'exchange_type': 'bilateral', 'amm_liquidity_k': None, 'n_runs': 10}\n",
      "{'prosumer_count': 5, 'perfect_forecasting': False, 'exchange_type': 'amm', 'amm_liquidity_k': 50, 'n_runs': 10}\n",
      "{'prosumer_count': 5, 'perfect_forecasting': False, 'exchange_type': 'amm', 'amm_liquidity_k': 100, 'n_runs': 10}\n",
      "{'prosumer_count': 5, 'perfect_forecasting': False, 'exchange_type': 'amm', 'amm_liquidity_k': 200, 'n_runs': 10}\n",
      "{'prosumer_count': 5, 'perfect_forecasting': False, 'exchange_type': 'amm', 'amm_liquidity_k': 500, 'n_runs': 10}\n",
      "{'prosumer_count': 6, 'perfect_forecasting': True, 'exchange_type': 'bilateral', 'amm_liquidity_k': None, 'n_runs': 10}\n",
      "{'prosumer_count': 6, 'perfect_forecasting': True, 'exchange_type': 'amm', 'amm_liquidity_k': 50, 'n_runs': 10}\n",
      "{'prosumer_count': 6, 'perfect_forecasting': True, 'exchange_type': 'amm', 'amm_liquidity_k': 100, 'n_runs': 10}\n",
      "{'prosumer_count': 6, 'perfect_forecasting': True, 'exchange_type': 'amm', 'amm_liquidity_k': 200, 'n_runs': 10}\n",
      "{'prosumer_count': 6, 'perfect_forecasting': True, 'exchange_type': 'amm', 'amm_liquidity_k': 500, 'n_runs': 10}\n",
      "{'prosumer_count': 6, 'perfect_forecasting': False, 'exchange_type': 'bilateral', 'amm_liquidity_k': None, 'n_runs': 10}\n",
      "{'prosumer_count': 6, 'perfect_forecasting': False, 'exchange_type': 'amm', 'amm_liquidity_k': 50, 'n_runs': 10}\n",
      "{'prosumer_count': 6, 'perfect_forecasting': False, 'exchange_type': 'amm', 'amm_liquidity_k': 100, 'n_runs': 10}\n",
      "{'prosumer_count': 6, 'perfect_forecasting': False, 'exchange_type': 'amm', 'amm_liquidity_k': 200, 'n_runs': 10}\n",
      "{'prosumer_count': 6, 'perfect_forecasting': False, 'exchange_type': 'amm', 'amm_liquidity_k': 500, 'n_runs': 10}\n",
      "{'prosumer_count': 7, 'perfect_forecasting': True, 'exchange_type': 'bilateral', 'amm_liquidity_k': None, 'n_runs': 10}\n",
      "{'prosumer_count': 7, 'perfect_forecasting': True, 'exchange_type': 'amm', 'amm_liquidity_k': 50, 'n_runs': 10}\n",
      "{'prosumer_count': 7, 'perfect_forecasting': True, 'exchange_type': 'amm', 'amm_liquidity_k': 100, 'n_runs': 10}\n",
      "{'prosumer_count': 7, 'perfect_forecasting': True, 'exchange_type': 'amm', 'amm_liquidity_k': 200, 'n_runs': 10}\n",
      "{'prosumer_count': 7, 'perfect_forecasting': True, 'exchange_type': 'amm', 'amm_liquidity_k': 500, 'n_runs': 10}\n",
      "{'prosumer_count': 7, 'perfect_forecasting': False, 'exchange_type': 'bilateral', 'amm_liquidity_k': None, 'n_runs': 10}\n",
      "{'prosumer_count': 7, 'perfect_forecasting': False, 'exchange_type': 'amm', 'amm_liquidity_k': 50, 'n_runs': 10}\n",
      "{'prosumer_count': 7, 'perfect_forecasting': False, 'exchange_type': 'amm', 'amm_liquidity_k': 100, 'n_runs': 10}\n",
      "{'prosumer_count': 7, 'perfect_forecasting': False, 'exchange_type': 'amm', 'amm_liquidity_k': 200, 'n_runs': 10}\n",
      "{'prosumer_count': 7, 'perfect_forecasting': False, 'exchange_type': 'amm', 'amm_liquidity_k': 500, 'n_runs': 10}\n",
      "{'prosumer_count': 8, 'perfect_forecasting': True, 'exchange_type': 'bilateral', 'amm_liquidity_k': None, 'n_runs': 10}\n",
      "{'prosumer_count': 8, 'perfect_forecasting': True, 'exchange_type': 'amm', 'amm_liquidity_k': 50, 'n_runs': 10}\n",
      "{'prosumer_count': 8, 'perfect_forecasting': True, 'exchange_type': 'amm', 'amm_liquidity_k': 100, 'n_runs': 10}\n",
      "{'prosumer_count': 8, 'perfect_forecasting': True, 'exchange_type': 'amm', 'amm_liquidity_k': 200, 'n_runs': 10}\n",
      "{'prosumer_count': 8, 'perfect_forecasting': True, 'exchange_type': 'amm', 'amm_liquidity_k': 500, 'n_runs': 10}\n",
      "{'prosumer_count': 8, 'perfect_forecasting': False, 'exchange_type': 'bilateral', 'amm_liquidity_k': None, 'n_runs': 10}\n",
      "{'prosumer_count': 8, 'perfect_forecasting': False, 'exchange_type': 'amm', 'amm_liquidity_k': 50, 'n_runs': 10}\n",
      "{'prosumer_count': 8, 'perfect_forecasting': False, 'exchange_type': 'amm', 'amm_liquidity_k': 100, 'n_runs': 10}\n",
      "{'prosumer_count': 8, 'perfect_forecasting': False, 'exchange_type': 'amm', 'amm_liquidity_k': 200, 'n_runs': 10}\n",
      "{'prosumer_count': 8, 'perfect_forecasting': False, 'exchange_type': 'amm', 'amm_liquidity_k': 500, 'n_runs': 10}\n",
      "{'prosumer_count': 9, 'perfect_forecasting': True, 'exchange_type': 'bilateral', 'amm_liquidity_k': None, 'n_runs': 10}\n",
      "{'prosumer_count': 9, 'perfect_forecasting': True, 'exchange_type': 'amm', 'amm_liquidity_k': 50, 'n_runs': 10}\n",
      "{'prosumer_count': 9, 'perfect_forecasting': True, 'exchange_type': 'amm', 'amm_liquidity_k': 100, 'n_runs': 10}\n",
      "{'prosumer_count': 9, 'perfect_forecasting': True, 'exchange_type': 'amm', 'amm_liquidity_k': 200, 'n_runs': 10}\n",
      "{'prosumer_count': 9, 'perfect_forecasting': True, 'exchange_type': 'amm', 'amm_liquidity_k': 500, 'n_runs': 10}\n",
      "{'prosumer_count': 9, 'perfect_forecasting': False, 'exchange_type': 'bilateral', 'amm_liquidity_k': None, 'n_runs': 10}\n",
      "{'prosumer_count': 9, 'perfect_forecasting': False, 'exchange_type': 'amm', 'amm_liquidity_k': 50, 'n_runs': 10}\n",
      "{'prosumer_count': 9, 'perfect_forecasting': False, 'exchange_type': 'amm', 'amm_liquidity_k': 100, 'n_runs': 10}\n",
      "{'prosumer_count': 9, 'perfect_forecasting': False, 'exchange_type': 'amm', 'amm_liquidity_k': 200, 'n_runs': 10}\n",
      "{'prosumer_count': 9, 'perfect_forecasting': False, 'exchange_type': 'amm', 'amm_liquidity_k': 500, 'n_runs': 10}\n",
      "{'prosumer_count': 10, 'perfect_forecasting': True, 'exchange_type': 'bilateral', 'amm_liquidity_k': None, 'n_runs': 10}\n",
      "{'prosumer_count': 10, 'perfect_forecasting': True, 'exchange_type': 'amm', 'amm_liquidity_k': 50, 'n_runs': 10}\n",
      "{'prosumer_count': 10, 'perfect_forecasting': True, 'exchange_type': 'amm', 'amm_liquidity_k': 100, 'n_runs': 10}\n",
      "{'prosumer_count': 10, 'perfect_forecasting': True, 'exchange_type': 'amm', 'amm_liquidity_k': 200, 'n_runs': 10}\n",
      "{'prosumer_count': 10, 'perfect_forecasting': True, 'exchange_type': 'amm', 'amm_liquidity_k': 500, 'n_runs': 10}\n",
      "{'prosumer_count': 10, 'perfect_forecasting': False, 'exchange_type': 'bilateral', 'amm_liquidity_k': None, 'n_runs': 10}\n",
      "{'prosumer_count': 10, 'perfect_forecasting': False, 'exchange_type': 'amm', 'amm_liquidity_k': 50, 'n_runs': 10}\n",
      "{'prosumer_count': 10, 'perfect_forecasting': False, 'exchange_type': 'amm', 'amm_liquidity_k': 100, 'n_runs': 10}\n",
      "{'prosumer_count': 10, 'perfect_forecasting': False, 'exchange_type': 'amm', 'amm_liquidity_k': 200, 'n_runs': 10}\n",
      "{'prosumer_count': 10, 'perfect_forecasting': False, 'exchange_type': 'amm', 'amm_liquidity_k': 500, 'n_runs': 10}\n",
      "{'prosumer_count': 11, 'perfect_forecasting': True, 'exchange_type': 'bilateral', 'amm_liquidity_k': None, 'n_runs': 10}\n",
      "{'prosumer_count': 11, 'perfect_forecasting': True, 'exchange_type': 'amm', 'amm_liquidity_k': 50, 'n_runs': 10}\n",
      "{'prosumer_count': 11, 'perfect_forecasting': True, 'exchange_type': 'amm', 'amm_liquidity_k': 100, 'n_runs': 10}\n",
      "{'prosumer_count': 11, 'perfect_forecasting': True, 'exchange_type': 'amm', 'amm_liquidity_k': 200, 'n_runs': 10}\n",
      "{'prosumer_count': 11, 'perfect_forecasting': True, 'exchange_type': 'amm', 'amm_liquidity_k': 500, 'n_runs': 10}\n",
      "{'prosumer_count': 11, 'perfect_forecasting': False, 'exchange_type': 'bilateral', 'amm_liquidity_k': None, 'n_runs': 10}\n",
      "{'prosumer_count': 11, 'perfect_forecasting': False, 'exchange_type': 'amm', 'amm_liquidity_k': 50, 'n_runs': 10}\n",
      "{'prosumer_count': 11, 'perfect_forecasting': False, 'exchange_type': 'amm', 'amm_liquidity_k': 100, 'n_runs': 10}\n",
      "{'prosumer_count': 11, 'perfect_forecasting': False, 'exchange_type': 'amm', 'amm_liquidity_k': 200, 'n_runs': 10}\n",
      "{'prosumer_count': 11, 'perfect_forecasting': False, 'exchange_type': 'amm', 'amm_liquidity_k': 500, 'n_runs': 10}\n",
      "{'prosumer_count': 12, 'perfect_forecasting': True, 'exchange_type': 'bilateral', 'amm_liquidity_k': None, 'n_runs': 10}\n",
      "{'prosumer_count': 12, 'perfect_forecasting': True, 'exchange_type': 'amm', 'amm_liquidity_k': 50, 'n_runs': 10}\n",
      "{'prosumer_count': 12, 'perfect_forecasting': True, 'exchange_type': 'amm', 'amm_liquidity_k': 100, 'n_runs': 10}\n",
      "{'prosumer_count': 12, 'perfect_forecasting': True, 'exchange_type': 'amm', 'amm_liquidity_k': 200, 'n_runs': 10}\n",
      "{'prosumer_count': 12, 'perfect_forecasting': True, 'exchange_type': 'amm', 'amm_liquidity_k': 500, 'n_runs': 10}\n",
      "{'prosumer_count': 12, 'perfect_forecasting': False, 'exchange_type': 'bilateral', 'amm_liquidity_k': None, 'n_runs': 10}\n",
      "{'prosumer_count': 12, 'perfect_forecasting': False, 'exchange_type': 'amm', 'amm_liquidity_k': 50, 'n_runs': 10}\n",
      "{'prosumer_count': 12, 'perfect_forecasting': False, 'exchange_type': 'amm', 'amm_liquidity_k': 100, 'n_runs': 10}\n",
      "{'prosumer_count': 12, 'perfect_forecasting': False, 'exchange_type': 'amm', 'amm_liquidity_k': 200, 'n_runs': 10}\n",
      "{'prosumer_count': 12, 'perfect_forecasting': False, 'exchange_type': 'amm', 'amm_liquidity_k': 500, 'n_runs': 10}\n"
     ]
    }
   ],
   "source": [
    "# Print the combinations (optional)\n",
    "for combo in combinations:\n",
    "    print(combo)"
   ]
  },
  {
   "cell_type": "markdown",
   "metadata": {},
   "source": []
  }
 ],
 "metadata": {
  "kernelspec": {
   "display_name": "base",
   "language": "python",
   "name": "python3"
  },
  "language_info": {
   "codemirror_mode": {
    "name": "ipython",
    "version": 3
   },
   "file_extension": ".py",
   "mimetype": "text/x-python",
   "name": "python",
   "nbconvert_exporter": "python",
   "pygments_lexer": "ipython3",
   "version": "3.11.5"
  }
 },
 "nbformat": 4,
 "nbformat_minor": 2
}
